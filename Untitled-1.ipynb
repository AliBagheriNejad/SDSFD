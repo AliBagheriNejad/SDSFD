{
 "cells": [
  {
   "cell_type": "code",
   "execution_count": 40,
   "metadata": {},
   "outputs": [],
   "source": [
    "# Importing libraries\n",
    "\n",
    "import numpy as np\n",
    "import pandas as pd\n",
    "import matplotlib.pyplot as plt\n",
    "import dask.dataframe as dd\n",
    "\n"
   ]
  },
  {
   "cell_type": "code",
   "execution_count": 4,
   "metadata": {},
   "outputs": [],
   "source": [
    "# Saving the main home directory\n",
    "import os\n",
    "default_dir = os.getcwd()"
   ]
  },
  {
   "cell_type": "code",
   "execution_count": 5,
   "metadata": {},
   "outputs": [],
   "source": [
    "# Change working directory to code\n",
    "new_dir = '/home/fdi/AliBagheriNejad/Thesis/MECO/code'\n",
    "os.chdir(new_dir)"
   ]
  },
  {
   "cell_type": "markdown",
   "metadata": {},
   "source": [
    "## Reading data"
   ]
  },
  {
   "cell_type": "code",
   "execution_count": 26,
   "metadata": {},
   "outputs": [
    {
     "name": "stdout",
     "output_type": "stream",
     "text": [
      "['vib_case_dataset_ICMS Dataset.xlsx']\n"
     ]
    }
   ],
   "source": [
    "# Data files\n",
    "data_dir = '../data'\n",
    "data_files = os.listdir(data_dir)\n",
    "print(data_files)\n",
    "\n",
    "# File path\n",
    "file_dir = os.path.join(\n",
    "        data_dir,\n",
    "        data_files[0]\n",
    "    )"
   ]
  },
  {
   "cell_type": "code",
   "execution_count": 30,
   "metadata": {},
   "outputs": [
    {
     "data": {
      "text/html": [
       "<div>\n",
       "<style scoped>\n",
       "    .dataframe tbody tr th:only-of-type {\n",
       "        vertical-align: middle;\n",
       "    }\n",
       "\n",
       "    .dataframe tbody tr th {\n",
       "        vertical-align: top;\n",
       "    }\n",
       "\n",
       "    .dataframe thead th {\n",
       "        text-align: right;\n",
       "    }\n",
       "</style>\n",
       "<table border=\"1\" class=\"dataframe\">\n",
       "  <thead>\n",
       "    <tr style=\"text-align: right;\">\n",
       "      <th></th>\n",
       "      <th>time</th>\n",
       "      <th>CTIM</th>\n",
       "      <th>DWATT</th>\n",
       "      <th>TNH_RPM</th>\n",
       "      <th>VibGt_39VS1_1</th>\n",
       "      <th>VibGt_39VS1_2</th>\n",
       "      <th>VibGt_39VS2_1</th>\n",
       "      <th>VibGt_39VS2_2</th>\n",
       "      <th>VibGt_39VS3_1</th>\n",
       "      <th>VibGt_39VS3_2</th>\n",
       "      <th>...</th>\n",
       "      <th>VibGt_39VS32</th>\n",
       "      <th>VibGt_96VC11</th>\n",
       "      <th>VibGt_39V100</th>\n",
       "      <th>VibGt_39V101</th>\n",
       "      <th>VibGt_39V102</th>\n",
       "      <th>VibGt_39V103</th>\n",
       "      <th>VibGt_39V104</th>\n",
       "      <th>VibGt_39V105</th>\n",
       "      <th>VibGt_39V106</th>\n",
       "      <th>VibGt_39V107</th>\n",
       "    </tr>\n",
       "  </thead>\n",
       "  <tbody>\n",
       "    <tr>\n",
       "      <th>0</th>\n",
       "      <td>2021-08-01 00:05:00</td>\n",
       "      <td>22.942000</td>\n",
       "      <td>32.529803</td>\n",
       "      <td>5160.770089</td>\n",
       "      <td>40.317064</td>\n",
       "      <td>47.217068</td>\n",
       "      <td>21.822669</td>\n",
       "      <td>28.925236</td>\n",
       "      <td>49.965705</td>\n",
       "      <td>18.403337</td>\n",
       "      <td>...</td>\n",
       "      <td>4.071320</td>\n",
       "      <td>47.250298</td>\n",
       "      <td>2.071576</td>\n",
       "      <td>1.202392</td>\n",
       "      <td>2.147107</td>\n",
       "      <td>1.008025</td>\n",
       "      <td>42.365572</td>\n",
       "      <td>36.283034</td>\n",
       "      <td>66.701268</td>\n",
       "      <td>94.243103</td>\n",
       "    </tr>\n",
       "    <tr>\n",
       "      <th>1</th>\n",
       "      <td>2021-08-01 00:10:00</td>\n",
       "      <td>22.848667</td>\n",
       "      <td>32.603841</td>\n",
       "      <td>5162.906863</td>\n",
       "      <td>40.419535</td>\n",
       "      <td>47.287442</td>\n",
       "      <td>21.797230</td>\n",
       "      <td>29.054097</td>\n",
       "      <td>49.445506</td>\n",
       "      <td>18.450887</td>\n",
       "      <td>...</td>\n",
       "      <td>5.195232</td>\n",
       "      <td>47.959209</td>\n",
       "      <td>2.074257</td>\n",
       "      <td>1.201958</td>\n",
       "      <td>2.151785</td>\n",
       "      <td>1.012741</td>\n",
       "      <td>42.277922</td>\n",
       "      <td>36.410831</td>\n",
       "      <td>66.671368</td>\n",
       "      <td>94.208261</td>\n",
       "    </tr>\n",
       "    <tr>\n",
       "      <th>2</th>\n",
       "      <td>2021-08-01 00:15:00</td>\n",
       "      <td>22.444000</td>\n",
       "      <td>32.697212</td>\n",
       "      <td>5162.004736</td>\n",
       "      <td>40.302562</td>\n",
       "      <td>47.125296</td>\n",
       "      <td>21.776783</td>\n",
       "      <td>28.864609</td>\n",
       "      <td>50.013017</td>\n",
       "      <td>18.451363</td>\n",
       "      <td>...</td>\n",
       "      <td>3.528441</td>\n",
       "      <td>48.127902</td>\n",
       "      <td>2.070023</td>\n",
       "      <td>1.200782</td>\n",
       "      <td>2.148505</td>\n",
       "      <td>1.009828</td>\n",
       "      <td>42.343870</td>\n",
       "      <td>36.219136</td>\n",
       "      <td>66.578776</td>\n",
       "      <td>93.999204</td>\n",
       "    </tr>\n",
       "    <tr>\n",
       "      <th>3</th>\n",
       "      <td>2021-08-01 00:20:00</td>\n",
       "      <td>22.047334</td>\n",
       "      <td>32.835738</td>\n",
       "      <td>5166.438945</td>\n",
       "      <td>40.381019</td>\n",
       "      <td>47.092249</td>\n",
       "      <td>21.639363</td>\n",
       "      <td>28.994897</td>\n",
       "      <td>49.637608</td>\n",
       "      <td>18.394065</td>\n",
       "      <td>...</td>\n",
       "      <td>3.887639</td>\n",
       "      <td>49.191270</td>\n",
       "      <td>2.081250</td>\n",
       "      <td>1.208112</td>\n",
       "      <td>2.153405</td>\n",
       "      <td>1.016021</td>\n",
       "      <td>42.331211</td>\n",
       "      <td>36.346933</td>\n",
       "      <td>66.692346</td>\n",
       "      <td>94.086371</td>\n",
       "    </tr>\n",
       "    <tr>\n",
       "      <th>4</th>\n",
       "      <td>2021-08-01 00:25:00</td>\n",
       "      <td>22.157334</td>\n",
       "      <td>32.825157</td>\n",
       "      <td>5165.271291</td>\n",
       "      <td>40.373887</td>\n",
       "      <td>47.062054</td>\n",
       "      <td>21.615588</td>\n",
       "      <td>28.985149</td>\n",
       "      <td>49.710360</td>\n",
       "      <td>18.475138</td>\n",
       "      <td>...</td>\n",
       "      <td>3.885509</td>\n",
       "      <td>49.477148</td>\n",
       "      <td>2.080951</td>\n",
       "      <td>1.204022</td>\n",
       "      <td>2.152180</td>\n",
       "      <td>1.012143</td>\n",
       "      <td>42.304567</td>\n",
       "      <td>35.988860</td>\n",
       "      <td>66.621335</td>\n",
       "      <td>94.208984</td>\n",
       "    </tr>\n",
       "  </tbody>\n",
       "</table>\n",
       "<p>5 rows × 35 columns</p>\n",
       "</div>"
      ],
      "text/plain": [
       "                 time       CTIM      DWATT      TNH_RPM  VibGt_39VS1_1  \\\n",
       "0 2021-08-01 00:05:00  22.942000  32.529803  5160.770089      40.317064   \n",
       "1 2021-08-01 00:10:00  22.848667  32.603841  5162.906863      40.419535   \n",
       "2 2021-08-01 00:15:00  22.444000  32.697212  5162.004736      40.302562   \n",
       "3 2021-08-01 00:20:00  22.047334  32.835738  5166.438945      40.381019   \n",
       "4 2021-08-01 00:25:00  22.157334  32.825157  5165.271291      40.373887   \n",
       "\n",
       "   VibGt_39VS1_2  VibGt_39VS2_1  VibGt_39VS2_2  VibGt_39VS3_1  VibGt_39VS3_2  \\\n",
       "0      47.217068      21.822669      28.925236      49.965705      18.403337   \n",
       "1      47.287442      21.797230      29.054097      49.445506      18.450887   \n",
       "2      47.125296      21.776783      28.864609      50.013017      18.451363   \n",
       "3      47.092249      21.639363      28.994897      49.637608      18.394065   \n",
       "4      47.062054      21.615588      28.985149      49.710360      18.475138   \n",
       "\n",
       "   ...  VibGt_39VS32  VibGt_96VC11  VibGt_39V100  VibGt_39V101  VibGt_39V102  \\\n",
       "0  ...      4.071320     47.250298      2.071576      1.202392      2.147107   \n",
       "1  ...      5.195232     47.959209      2.074257      1.201958      2.151785   \n",
       "2  ...      3.528441     48.127902      2.070023      1.200782      2.148505   \n",
       "3  ...      3.887639     49.191270      2.081250      1.208112      2.153405   \n",
       "4  ...      3.885509     49.477148      2.080951      1.204022      2.152180   \n",
       "\n",
       "   VibGt_39V103  VibGt_39V104  VibGt_39V105  VibGt_39V106  VibGt_39V107  \n",
       "0      1.008025     42.365572     36.283034     66.701268     94.243103  \n",
       "1      1.012741     42.277922     36.410831     66.671368     94.208261  \n",
       "2      1.009828     42.343870     36.219136     66.578776     93.999204  \n",
       "3      1.016021     42.331211     36.346933     66.692346     94.086371  \n",
       "4      1.012143     42.304567     35.988860     66.621335     94.208984  \n",
       "\n",
       "[5 rows x 35 columns]"
      ]
     },
     "execution_count": 30,
     "metadata": {},
     "output_type": "execute_result"
    }
   ],
   "source": [
    "# Read excel file\n",
    "df = pd.read_excel(\n",
    "    file_dir\n",
    ")\n",
    "\n",
    "df.head()"
   ]
  },
  {
   "cell_type": "code",
   "execution_count": 32,
   "metadata": {},
   "outputs": [
    {
     "name": "stdout",
     "output_type": "stream",
     "text": [
      "Name of sensros are as follows:\n",
      "\n",
      " Index(['time', 'CTIM', 'DWATT', 'TNH_RPM', 'VibGt_39VS1_1', 'VibGt_39VS1_2',\n",
      "       'VibGt_39VS2_1', 'VibGt_39VS2_2', 'VibGt_39VS3_1', 'VibGt_39VS3_2',\n",
      "       'VibGt_39VS4_1', 'VibGt_39VS4_2', 'VibGt_39VS5_1', 'VibGt_39VS5_2',\n",
      "       'VibGt_39V1A', 'VibGt_39V1B', 'VibGt_39V2A', 'VibGt_39V2B',\n",
      "       'VibGt_39V3A', 'VibGt_39V3B', 'VibGt_39V4A', 'VibGt_39V4B',\n",
      "       'VibGt_39VS11', 'VibGt_39VS12', 'VibGt_39VS31', 'VibGt_39VS32',\n",
      "       'VibGt_96VC11', 'VibGt_39V100', 'VibGt_39V101', 'VibGt_39V102',\n",
      "       'VibGt_39V103', 'VibGt_39V104', 'VibGt_39V105', 'VibGt_39V106',\n",
      "       'VibGt_39V107'],\n",
      "      dtype='object')\n"
     ]
    }
   ],
   "source": [
    "print(\n",
    "    'Name of sensros are as follows:\\n\\n',\n",
    "    df.columns\n",
    ")"
   ]
  },
  {
   "cell_type": "code",
   "execution_count": 53,
   "metadata": {},
   "outputs": [],
   "source": [
    "# Separate two sensors\n",
    "df_1 = df[['time','VibGt_39VS1_1', 'VibGt_39VS1_2']].copy()"
   ]
  },
  {
   "cell_type": "code",
   "execution_count": 54,
   "metadata": {},
   "outputs": [
    {
     "name": "stdout",
     "output_type": "stream",
     "text": [
      "Shape of dataframe before dropping Nan: (28032, 3)\n",
      "Shape of dataframe after dropping Nan: (27723, 3)\n"
     ]
    }
   ],
   "source": [
    "print(f'Shape of dataframe before dropping Nan: {df_1.shape}')\n",
    "df_1.dropna(axis=0, inplace=True)\n",
    "print(f'Shape of dataframe after dropping Nan: {df_1.shape}')"
   ]
  },
  {
   "cell_type": "code",
   "execution_count": 56,
   "metadata": {},
   "outputs": [
    {
     "data": {
      "image/png": "[encoded data removed]",
      "text/plain": [
       "<Figure size 640x480 with 1 Axes>"
      ]
     },
     "metadata": {},
     "output_type": "display_data"
    }
   ],
   "source": [
    "# Plot signal values\n",
    "plt.scatter(\n",
    "    df_1['time'].values,\n",
    "    df_1['VibGt_39VS1_1'].values\n",
    ")\n",
    "plt.xticks(rotation=45)\n",
    "plt.show()"
   ]
  },
  {
   "cell_type": "code",
   "execution_count": 64,
   "metadata": {},
   "outputs": [
    {
     "data": {
      "image/png": "[encoded data removed]",
      "text/plain": [
       "<Figure size 640x480 with 1 Axes>"
      ]
     },
     "metadata": {},
     "output_type": "display_data"
    }
   ],
   "source": [
    "from scipy.stats import zscore\n",
    "\n",
    "plt.scatter(df_1.time, zscore(df_1['VibGt_39VS1_1']))\n",
    "plt.show()\n",
    "# "
   ]
  },
  {
   "cell_type": "markdown",
   "metadata": {},
   "source": [
    "## Samples"
   ]
  },
  {
   "cell_type": "code",
   "execution_count": null,
   "metadata": {},
   "outputs": [],
   "source": []
  }
 ],
 "metadata": {
  "kernelspec": {
   "display_name": "base",
   "language": "python",
   "name": "python3"
  },
  "language_info": {
   "codemirror_mode": {
    "name": "ipython",
    "version": 3
   },
   "file_extension": ".py",
   "mimetype": "text/x-python",
   "name": "python",
   "nbconvert_exporter": "python",
   "pygments_lexer": "ipython3",
   "version": "3.12.7"
  }
 },
 "nbformat": 4,
 "nbformat_minor": 2
}
